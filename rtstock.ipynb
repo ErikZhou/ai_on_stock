{
 "cells": [
  {
   "cell_type": "code",
   "execution_count": 30,
   "metadata": {},
   "outputs": [
    {
     "name": "stdout",
     "output_type": "stream",
     "text": [
      "(1, 5)\n",
      "1\n",
      "5\n",
      "2\n"
     ]
    }
   ],
   "source": [
    "# -*- coding: utf-8 -*-\n",
    "\n",
    "def secondvalue(a,b):\n",
    "\n",
    "    c = a + b\n",
    "    ret = 1\n",
    "\n",
    "    return (ret, c)\n",
    "\n",
    "d = secondvalue(2,3)\n",
    "print(d)\n",
    "print(d[0])\n",
    "print(d[1])\n",
    "\n",
    "def ChangeInt( a ):\n",
    "    a = 10\n",
    "nfoo = 2 \n",
    "ChangeInt(nfoo)\n",
    "print (nfoo) #结果是2\n",
    "\n"
   ]
  },
  {
   "cell_type": "code",
   "execution_count": 25,
   "metadata": {},
   "outputs": [
    {
     "name": "stdout",
     "output_type": "stream",
     "text": [
      "[10, 1]\n",
      "[10, 1]\n"
     ]
    }
   ],
   "source": [
    "def ChangeList( a ):\n",
    "    a[0] = 10\n",
    "    print(a)\n",
    "    \n",
    "lstFoo = [0,1]\n",
    "ChangeList(lstFoo )\n",
    "print (lstFoo) #结果是[10]\n"
   ]
  },
  {
   "cell_type": "code",
   "execution_count": null,
   "metadata": {},
   "outputs": [],
   "source": []
  }
 ],
 "metadata": {
  "kernelspec": {
   "display_name": "Python 3",
   "language": "python",
   "name": "python3"
  },
  "language_info": {
   "codemirror_mode": {
    "name": "ipython",
    "version": 3
   },
   "file_extension": ".py",
   "mimetype": "text/x-python",
   "name": "python",
   "nbconvert_exporter": "python",
   "pygments_lexer": "ipython3",
   "version": "3.7.4"
  }
 },
 "nbformat": 4,
 "nbformat_minor": 2
}
