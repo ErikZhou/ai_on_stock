{
 "cells": [
  {
   "cell_type": "code",
   "execution_count": null,
   "metadata": {
    "collapsed": true
   },
   "outputs": [],
   "source": [
    "# https://www.toptal.com/machine-learning/s-p-500-automated-trading\n",
    "from __future__ import division\n",
    "import graphlab as gl\n",
    "from datetime import datetime\n",
    "##from yahoo_finance import Share\n",
    "print('1')\n",
    "# download historical prices of S&P 500 index\n",
    "print('before download')\n",
    "##today = datetime.strftime(datetime.today(), \"%Y-%m-%d\")\n",
    "print('after download')\n",
    "##stock = Share('^GSPC') # ^GSPC is the Yahoo finance symbol to refer S&P 500 index\n",
    "# we gather historical quotes from 2001-01-01 up to today\n",
    "##hist_quotes = stock.get_historical('2001-01-01', today)\n",
    "# here is how a row looks like\n",
    "hist_quotes[0]\n",
    "{'Adj_Close': '2091.580078',\n",
    " 'Close': '2091.580078',\n",
    " 'Date': '2016-04-22',\n",
    " 'High': '2094.320068',\n",
    " 'Low': '2081.199951',\n",
    " 'Open': '2091.48999',\n",
    " 'Symbol': '%5eGSPC',\n",
    " 'Volume': '3790580000'}"
   ]
  },
  {
   "cell_type": "code",
   "execution_count": null,
   "metadata": {
    "collapsed": true
   },
   "outputs": [],
   "source": []
  }
 ],
 "metadata": {
  "kernelspec": {
   "display_name": "Python 2",
   "language": "python",
   "name": "python2"
  }
 },
 "nbformat": 4,
 "nbformat_minor": 2
}
