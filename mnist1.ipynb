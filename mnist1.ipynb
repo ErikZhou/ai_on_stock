{
 "cells": [
  {
   "cell_type": "code",
   "execution_count": 2,
   "metadata": {},
   "outputs": [
    {
     "name": "stdout",
     "output_type": "stream",
     "text": [
      "Train on 60000 samples, validate on 10000 samples\n",
      "Epoch 1/1\n",
      "60000/60000 [==============================] - 87s 1ms/step - loss: 0.1437 - acc: 0.9551 - val_loss: 0.0375 - val_acc: 0.9889\n",
      "10000/10000 [==============================] - 4s 412us/step\n",
      "Test loss: 0.03749430731311441\n",
      "Test accuracy: 0.9889\n"
     ]
    }
   ],
   "source": [
    "#-*-coding:utf-8-*-\n",
    "from keras.models import Sequential\n",
    "from keras.datasets import mnist\n",
    "from keras.optimizers import Adam\n",
    "from keras.losses import categorical_crossentropy\n",
    "from keras.layers import Dense,Reshape,Dropout,Flatten,Conv2D,MaxPool2D\n",
    "from keras.utils import to_categorical\n",
    "\n",
    "def loadData():\n",
    "    (x_train,y_train),(x_test,y_test) = mnist.load_data()\n",
    "    return x_train,y_train,x_test,y_test\n",
    "\n",
    "def shuffle():\n",
    "    pass\n",
    "\n",
    "def createModel():\n",
    "    model = Sequential()\n",
    "\n",
    "    #reshape image to tensorflow backend shape (rows,clos,channels)\n",
    "    model.add(Reshape(input_shape=(28,28),target_shape=(28,28,1)))\n",
    "    # layer1-conv 卷积核大小：(5,5)，激活函数:relu,卷积核个数：32，第一层一定要指定input_shape\n",
    "    model.add(Conv2D(32,kernel_size=(5,5),input_shape=(28,28,1),activation='relu'))\n",
    "    # 2*2的最大池化\n",
    "    model.add(MaxPool2D(pool_size=(2,2)))\n",
    "\n",
    "    #layer2-conv 卷积核大小：(5,5)，激活函数:relu,卷积核个数：64\n",
    "    model.add(Conv2D(64,kernel_size=(5,5),activation='relu'))\n",
    "    # 2*2的最大池化\n",
    "    model.add(MaxPool2D(pool_size=(2,2)))\n",
    "\n",
    "    #数据一维化\n",
    "    model.add(Flatten())\n",
    "\n",
    "    #layer3-dense，输出1024\n",
    "    model.add(Dense(1024,activation='relu'))\n",
    "    #layer4-drop，断开神经元比例50%\n",
    "    model.add(Dropout(0.5))\n",
    "\n",
    "    #output，10个类，激活函数：softmax\n",
    "    model.add(Dense(10,activation='softmax'))\n",
    "    return model\n",
    "\n",
    "def train():\n",
    "    model = createModel()\n",
    "    #损失函数：交叉熵 ，优化函数：adam，评估标准：精度\n",
    "    model.compile(loss=categorical_crossentropy,optimizer='adam',metrics=['accuracy'])\n",
    "    x_train, y_train, x_test, y_test = loadData()\n",
    "    #数据归一化\n",
    "    x_train = x_train.astype('float32')/255\n",
    "    x_test = x_test.astype('float32')/255\n",
    "    #转换为独热编码[1,2],[[0.1,0.5,...],[0.5,0.8,...]]\n",
    "    y_train = to_categorical(y_train,10)\n",
    "    y_test = to_categorical(y_test,10)\n",
    "    #epochs：数据轮10遍，每个batch64，verbose=1： 输出日志信息\n",
    "    model.fit(x=x_train,y=y_train,batch_size=64,epochs=1,shuffle=True,verbose=1, validation_data=(x_test,y_test))\n",
    "    score = model.evaluate(x=x_test,y=y_test,batch_size=128,verbose=1)\n",
    "    print('Test loss:', score[0])\n",
    "    print('Test accuracy:', score[1])\n",
    "\n",
    "if __name__==\"__main__\":\n",
    "    train()"
   ]
  },
  {
   "cell_type": "code",
   "execution_count": null,
   "metadata": {},
   "outputs": [],
   "source": []
  }
 ],
 "metadata": {
  "kernelspec": {
   "display_name": "Python 3",
   "language": "python",
   "name": "python3"
  },
  "language_info": {
   "codemirror_mode": {
    "name": "ipython",
    "version": 3
   },
   "file_extension": ".py",
   "mimetype": "text/x-python",
   "name": "python",
   "nbconvert_exporter": "python",
   "pygments_lexer": "ipython3",
   "version": "3.6.8"
  }
 },
 "nbformat": 4,
 "nbformat_minor": 2
}
