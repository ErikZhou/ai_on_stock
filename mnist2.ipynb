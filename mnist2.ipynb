{
 "cells": [
  {
   "cell_type": "code",
   "execution_count": 1,
   "metadata": {},
   "outputs": [
    {
     "name": "stderr",
     "output_type": "stream",
     "text": [
      "/Users/zhoueric/anaconda3/lib/python3.6/site-packages/h5py/__init__.py:36: FutureWarning: Conversion of the second argument of issubdtype from `float` to `np.floating` is deprecated. In future, it will be treated as `np.float64 == np.dtype(float).type`.\n",
      "  from ._conv import register_converters as _register_converters\n",
      "Using TensorFlow backend.\n"
     ]
    },
    {
     "name": "stdout",
     "output_type": "stream",
     "text": [
      "Training ------------\n",
      "Epoch 1/4\n",
      "60000/60000 [==============================] - 14s 226us/step - loss: 0.2090 - acc: 0.9385\n",
      "Epoch 2/4\n",
      "60000/60000 [==============================] - 13s 221us/step - loss: 0.0927 - acc: 0.9731\n",
      "Epoch 3/4\n",
      "60000/60000 [==============================] - 12s 202us/step - loss: 0.0674 - acc: 0.9814\n",
      "Epoch 4/4\n",
      "60000/60000 [==============================] - 12s 205us/step - loss: 0.0534 - acc: 0.9849\n",
      "\n",
      "Testing ------------\n",
      "10000/10000 [==============================] - 1s 79us/step\n",
      "test loss:  0.10554593010657991\n",
      "test accuracy:  0.9738\n"
     ]
    }
   ],
   "source": [
    "# _*_ coding: utf-8 _*_\n",
    "# Classifier mnist\n",
    "\n",
    "import numpy as np\n",
    "np.random.seed(1337)  \n",
    "from keras.datasets import mnist\n",
    "from keras.utils import np_utils\n",
    "from keras.models import Sequential\n",
    "from keras.layers import Dense, Activation\n",
    "from keras.optimizers import RMSprop\n",
    "\n",
    "# 下载数据集\n",
    "(X_train, y_train), (X_test, y_test) = mnist.load_data() # 下载不来，可以手动下载下来后缀npz的数据，下载地址：https://s3.amazonaws.com/img-datasets/mnist.npz\n",
    "\n",
    "# 数据预处处理\n",
    "X_train = X_train.reshape(X_train.shape[0], -1) / 255. \n",
    "X_test = X_test.reshape(X_test.shape[0], -1) / 255.  \n",
    "y_train = np_utils.to_categorical(y_train, num_classes=10)\n",
    "y_test = np_utils.to_categorical(y_test, num_classes=10)\n",
    "\n",
    "# 不使用model.add()，用以下方式也可以构建网络\n",
    "model = Sequential([\n",
    "    Dense(400, input_dim=784),\n",
    "    Activation('relu'),\n",
    "    Dense(10),\n",
    "    Activation('softmax'),\n",
    "])\n",
    "\n",
    "# 定义优化器\n",
    "rmsprop = RMSprop(lr=0.001, rho=0.9, epsilon=1e-08, decay=0.0)\n",
    "model.compile(optimizer=rmsprop,\n",
    "              loss='categorical_crossentropy',\n",
    "              metrics=['accuracy']) # metrics赋值为'accuracy'，会在训练过程中输出正确率\n",
    "\n",
    "# 这次我们用fit()来训练网路\n",
    "print('Training ------------')\n",
    "model.fit(X_train, y_train, epochs=4, batch_size=32)\n",
    "\n",
    "print('\\nTesting ------------')\n",
    "# 评价训练出的网络\n",
    "loss, accuracy = model.evaluate(X_test, y_test)\n",
    "\n",
    "print('test loss: ', loss)\n",
    "print('test accuracy: ', accuracy)"
   ]
  },
  {
   "cell_type": "code",
   "execution_count": null,
   "metadata": {},
   "outputs": [],
   "source": []
  }
 ],
 "metadata": {
  "kernelspec": {
   "display_name": "Python 3",
   "language": "python",
   "name": "python3"
  },
  "language_info": {
   "codemirror_mode": {
    "name": "ipython",
    "version": 3
   },
   "file_extension": ".py",
   "mimetype": "text/x-python",
   "name": "python",
   "nbconvert_exporter": "python",
   "pygments_lexer": "ipython3",
   "version": "3.6.8"
  }
 },
 "nbformat": 4,
 "nbformat_minor": 2
}
